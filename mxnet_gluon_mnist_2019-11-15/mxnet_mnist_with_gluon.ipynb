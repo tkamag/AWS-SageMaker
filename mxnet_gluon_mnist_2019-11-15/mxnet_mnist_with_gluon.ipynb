{
 "cells": [
  {
   "cell_type": "markdown",
   "metadata": {},
   "source": [
    "## MNIST Training with MXNet and Gluon\n",
    "\n",
    "- MNIST: dataset for handwritten digit classification. \n",
    " - 70,000 labeled 28x28 pixel grayscale images of hand-written digits. \n",
    " - 60,000 training images and 10,000 test images. \n",
    " - 10 classes (one for each of the 10 digits). \n",
    " \n",
    "Goal of this notebook: How to train and test an MNIST model on SageMaker using MXNet and the Gluon API.\n"
   ]
  },
  {
   "cell_type": "code",
   "execution_count": 2,
   "metadata": {},
   "outputs": [],
   "source": [
    "import os\n",
    "import boto3\n",
    "import sagemaker\n",
    "from sagemaker.mxnet import MXNet\n",
    "from mxnet import gluon\n",
    "from sagemaker import get_execution_role\n"
   ]
  },
  {
   "cell_type": "markdown",
   "metadata": {},
   "source": [
    "#### Load SageMaker variables"
   ]
  },
  {
   "cell_type": "code",
   "execution_count": 3,
   "metadata": {},
   "outputs": [
    {
     "name": "stdout",
     "output_type": "stream",
     "text": [
      "<sagemaker.session.Session object at 0x7f5385af6da0>\n",
      "arn:aws:iam::394610559328:role/service-role/AmazonSageMaker-ExecutionRole-20190722T122791\n"
     ]
    }
   ],
   "source": [
    "sagemaker_session = sagemaker.Session()\n",
    "role = get_execution_role()\n",
    "print(sagemaker_session)\n",
    "print(role)"
   ]
  },
  {
   "cell_type": "markdown",
   "metadata": {},
   "source": [
    "## Download training and test data"
   ]
  },
  {
   "cell_type": "code",
   "execution_count": 4,
   "metadata": {},
   "outputs": [
    {
     "name": "stdout",
     "output_type": "stream",
     "text": [
      "daemon.json  mxnet_mnist_with_gluon.ipynb\n",
      "input.html   mxnet_mnist_with_gluon_local_mode.ipynb\n",
      "mnist.py     setup.sh\n"
     ]
    }
   ],
   "source": [
    "!ls"
   ]
  },
  {
   "cell_type": "code",
   "execution_count": 5,
   "metadata": {},
   "outputs": [
    {
     "name": "stdout",
     "output_type": "stream",
     "text": [
      "Downloading ./data/train/train-images-idx3-ubyte.gz from https://apache-mxnet.s3-accelerate.dualstack.amazonaws.com/gluon/dataset/mnist/train-images-idx3-ubyte.gz...\n",
      "Downloading ./data/train/train-labels-idx1-ubyte.gz from https://apache-mxnet.s3-accelerate.dualstack.amazonaws.com/gluon/dataset/mnist/train-labels-idx1-ubyte.gz...\n",
      "Downloading ./data/test/t10k-images-idx3-ubyte.gz from https://apache-mxnet.s3-accelerate.dualstack.amazonaws.com/gluon/dataset/mnist/t10k-images-idx3-ubyte.gz...\n",
      "Downloading ./data/test/t10k-labels-idx1-ubyte.gz from https://apache-mxnet.s3-accelerate.dualstack.amazonaws.com/gluon/dataset/mnist/t10k-labels-idx1-ubyte.gz...\n"
     ]
    },
    {
     "data": {
      "text/plain": [
       "<mxnet.gluon.data.vision.datasets.MNIST at 0x7f5385368f28>"
      ]
     },
     "execution_count": 5,
     "metadata": {},
     "output_type": "execute_result"
    }
   ],
   "source": [
    "gluon.data.vision.MNIST('./data/train', train=True)\n",
    "gluon.data.vision.MNIST('./data/test', train=False)"
   ]
  },
  {
   "cell_type": "code",
   "execution_count": 8,
   "metadata": {},
   "outputs": [
    {
     "name": "stdout",
     "output_type": "stream",
     "text": [
      "daemon.json  input.html  mxnet_mnist_with_gluon.ipynb\t\t  setup.sh\n",
      "data\t     mnist.py\t mxnet_mnist_with_gluon_local_mode.ipynb\n"
     ]
    }
   ],
   "source": [
    "!ls"
   ]
  },
  {
   "cell_type": "markdown",
   "metadata": {},
   "source": [
    "## Uploading the data\n",
    "\n",
    "We use the `sagemaker.Session.upload_data` function to upload our datasets to an S3 location. The return value `inputs` identifies the location -- we will use this later when we start the training job."
   ]
  },
  {
   "cell_type": "code",
   "execution_count": 9,
   "metadata": {},
   "outputs": [
    {
     "name": "stdout",
     "output_type": "stream",
     "text": [
      "s3://sagemaker-us-west-2-394610559328/data/DEMO-mnist\n"
     ]
    }
   ],
   "source": [
    "inputs = sagemaker_session.upload_data(path='data', key_prefix='data/DEMO-mnist')\n",
    "print(inputs)"
   ]
  },
  {
   "cell_type": "markdown",
   "metadata": {},
   "source": [
    "## Implement the training function\n",
    "\n",
    "We need to provide a training script that can run on the SageMaker platform. The training scripts are essentially the same as one you would write for local training, except that you need to provide a `train` function. The `train` function will check for the validation accuracy at the end of every epoch and checkpoints the best model so far, along with the optimizer state, in the folder `/opt/ml/checkpoints` if the folder path exists, else it will skip the checkpointing. When SageMaker calls your function, it will pass in arguments that describe the training environment. Check the script below to see how this works.\n",
    "\n",
    "The script here is an adaptation of the [Gluon MNIST example](https://github.com/apache/incubator-mxnet/blob/master/example/gluon/mnist.py) provided by the [Apache MXNet](https://mxnet.incubator.apache.org/) project. "
   ]
  },
  {
   "cell_type": "code",
   "execution_count": null,
   "metadata": {},
   "outputs": [],
   "source": []
  },
  {
   "cell_type": "code",
   "execution_count": 10,
   "metadata": {},
   "outputs": [
    {
     "name": "stdout",
     "output_type": "stream",
     "text": [
      "from __future__ import print_function\n",
      "\n",
      "import argparse\n",
      "import logging\n",
      "import os\n",
      "\n",
      "import mxnet as mx\n",
      "from mxnet import gluon, autograd\n",
      "from mxnet.gluon import nn\n",
      "import numpy as np\n",
      "import json\n",
      "import time\n",
      "\n",
      "\n",
      "logging.basicConfig(level=logging.DEBUG)\n",
      "\n",
      "# ------------------------------------------------------------ #\n",
      "# Training methods                                             #\n",
      "# ------------------------------------------------------------ #\n",
      "\n",
      "\n",
      "def train(args):\n",
      "    # SageMaker passes num_cpus, num_gpus and other args we can use to tailor training to\n",
      "    # the current container environment, but here we just use simple cpu context.\n",
      "    ctx = mx.cpu()\n",
      "\n",
      "    # retrieve the hyperparameters we set in notebook (with some defaults)\n",
      "    batch_size = args.batch_size\n",
      "    epochs = args.epochs\n",
      "    learning_rate = args.learning_rate\n",
      "    momentum = args.momentum\n",
      "    log_interval = args.log_interval\n",
      "\n",
      "    num_gpus = int(os.environ['SM_NUM_GPUS'])\n",
      "    current_host = args.current_host\n",
      "    hosts = args.hosts\n",
      "    model_dir = args.model_dir\n",
      "    CHECKPOINTS_DIR = '/opt/ml/checkpoints'\n",
      "    checkpoints_enabled = os.path.exists(CHECKPOINTS_DIR)\n",
      "\n",
      "    # load training and validation data\n",
      "    # we use the gluon.data.vision.MNIST class because of its built in mnist pre-processing logic,\n",
      "    # but point it at the location where SageMaker placed the data files, so it doesn't download them again.\n",
      "    training_dir = args.train\n",
      "    train_data = get_train_data(training_dir + '/train', batch_size)\n",
      "    val_data = get_val_data(training_dir + '/test', batch_size)\n",
      "\n",
      "    # define the network\n",
      "    net = define_network()\n",
      "\n",
      "    # Collect all parameters from net and its children, then initialize them.\n",
      "    net.initialize(mx.init.Xavier(magnitude=2.24), ctx=ctx)\n",
      "    # Trainer is for updating parameters with gradient.\n",
      "\n",
      "    if len(hosts) == 1:\n",
      "        kvstore = 'device' if num_gpus > 0 else 'local'\n",
      "    else:\n",
      "        kvstore = 'dist_device_sync' if num_gpus > 0 else 'dist_sync'\n",
      "\n",
      "    trainer = gluon.Trainer(net.collect_params(), 'sgd',\n",
      "                            {'learning_rate': learning_rate, 'momentum': momentum},\n",
      "                            kvstore=kvstore)\n",
      "    metric = mx.metric.Accuracy()\n",
      "    loss = gluon.loss.SoftmaxCrossEntropyLoss()\n",
      "\n",
      "    # shard the training data in case we are doing distributed training. Alternatively to splitting in memory,\n",
      "    # the data could be pre-split in S3 and use ShardedByS3Key to do distributed training.\n",
      "    if len(hosts) > 1:\n",
      "        train_data = [x for x in train_data]\n",
      "        shard_size = len(train_data) // len(hosts)\n",
      "        for i, host in enumerate(hosts):\n",
      "            if host == current_host:\n",
      "                start = shard_size * i\n",
      "                end = start + shard_size\n",
      "                break\n",
      "\n",
      "        train_data = train_data[start:end]\n",
      "\n",
      "    net.hybridize()\n",
      "\n",
      "    best_val_score = 0.0\n",
      "    for epoch in range(epochs):\n",
      "        # reset data iterator and metric at begining of epoch.\n",
      "        metric.reset()\n",
      "        btic = time.time()\n",
      "        for i, (data, label) in enumerate(train_data):\n",
      "            # Copy data to ctx if necessary\n",
      "            data = data.as_in_context(ctx)\n",
      "            label = label.as_in_context(ctx)\n",
      "            # Start recording computation graph with record() section.\n",
      "            # Recorded graphs can then be differentiated with backward.\n",
      "            with autograd.record():\n",
      "                output = net(data)\n",
      "                L = loss(output, label)\n",
      "                L.backward()\n",
      "            # take a gradient step with batch_size equal to data.shape[0]\n",
      "            trainer.step(data.shape[0])\n",
      "            # update metric at last.\n",
      "            metric.update([label], [output])\n",
      "\n",
      "            if i % log_interval == 0 and i > 0:\n",
      "                name, acc = metric.get()\n",
      "                print('[Epoch %d Batch %d] Training: %s=%f, %f samples/s' %\n",
      "                      (epoch, i, name, acc, batch_size / (time.time() - btic)))\n",
      "\n",
      "            btic = time.time()\n",
      "\n",
      "        name, acc = metric.get()\n",
      "        print('[Epoch %d] Training: %s=%f' % (epoch, name, acc))\n",
      "\n",
      "        name, val_acc = test(ctx, net, val_data)\n",
      "        print('[Epoch %d] Validation: %s=%f' % (epoch, name, val_acc))\n",
      "        # checkpoint the model, params and optimizer states in the folder /opt/ml/checkpoints\n",
      "        if checkpoints_enabled and val_acc > best_val_score:\n",
      "            best_val_score = val_acc\n",
      "            logging.info('Saving the model, params and optimizer state.')\n",
      "            net.export(CHECKPOINTS_DIR + \"/%.4f-gluon_mnist\"%(best_val_score), epoch)\n",
      "            trainer.save_states(CHECKPOINTS_DIR + '/%.4f-gluon_mnist-%d.states'%(best_val_score, epoch))\n",
      "\n",
      "    if current_host == hosts[0]:\n",
      "        save(net, model_dir)\n",
      "\n",
      "\n",
      "def save(net, model_dir):\n",
      "    # save the model\n",
      "    net.export('%s/model'% model_dir)\n",
      "\n",
      "\n",
      "def define_network():\n",
      "    net = nn.HybridSequential()\n",
      "    with net.name_scope():\n",
      "        net.add(nn.Dense(128, activation='relu'))\n",
      "        net.add(nn.Dense(64, activation='relu'))\n",
      "        net.add(nn.Dense(10))\n",
      "    return net\n",
      "\n",
      "\n",
      "def input_transformer(data, label):\n",
      "    data = data.reshape((-1,)).astype(np.float32) / 255.\n",
      "    return data, label\n",
      "\n",
      "\n",
      "def get_train_data(data_dir, batch_size):\n",
      "    return gluon.data.DataLoader(\n",
      "        gluon.data.vision.MNIST(data_dir, train=True, transform=input_transformer),\n",
      "        batch_size=batch_size, shuffle=True, last_batch='rollover')\n",
      "\n",
      "\n",
      "def get_val_data(data_dir, batch_size):\n",
      "    return gluon.data.DataLoader(\n",
      "        gluon.data.vision.MNIST(data_dir, train=False, transform=input_transformer),\n",
      "        batch_size=batch_size, shuffle=False)\n",
      "\n",
      "\n",
      "def test(ctx, net, val_data):\n",
      "    metric = mx.metric.Accuracy()\n",
      "    for data, label in val_data:\n",
      "        data = data.as_in_context(ctx)\n",
      "        label = label.as_in_context(ctx)\n",
      "        output = net(data)\n",
      "        metric.update([label], [output])\n",
      "    return metric.get()\n",
      "\n",
      "\n",
      "# ------------------------------------------------------------ #\n",
      "# Hosting methods                                              #\n",
      "# ------------------------------------------------------------ #\n",
      "\n",
      "def model_fn(model_dir):\n",
      "    \"\"\"\n",
      "    Load the gluon model. Called once when hosting service starts.\n",
      "\n",
      "    :param: model_dir The directory where model files are stored.\n",
      "    :return: a model (in this case a Gluon network)\n",
      "    \"\"\"\n",
      "    net = gluon.SymbolBlock.imports(\n",
      "        '%s/model-symbol.json' % model_dir,\n",
      "        ['data'],\n",
      "        '%s/model-0000.params' % model_dir,\n",
      "    )\n",
      "    return net\n",
      "\n",
      "\n",
      "def transform_fn(net, data, input_content_type, output_content_type):\n",
      "    \"\"\"\n",
      "    Transform a request using the Gluon model. Called once per request.\n",
      "\n",
      "    :param net: The Gluon model.\n",
      "    :param data: The request payload.\n",
      "    :param input_content_type: The request content type.\n",
      "    :param output_content_type: The (desired) response content type.\n",
      "    :return: response payload and content type.\n",
      "    \"\"\"\n",
      "    # we can use content types to vary input/output handling, but\n",
      "    # here we just assume json for both\n",
      "    parsed = json.loads(data)\n",
      "    nda = mx.nd.array(parsed)\n",
      "    output = net(nda)\n",
      "    prediction = mx.nd.argmax(output, axis=1)\n",
      "    response_body = json.dumps(prediction.asnumpy().tolist()[0])\n",
      "    return response_body, output_content_type\n",
      "\n",
      "\n",
      "# ------------------------------------------------------------ #\n",
      "# Training execution                                           #\n",
      "# ------------------------------------------------------------ #\n",
      "\n",
      "def parse_args():\n",
      "    parser = argparse.ArgumentParser()\n",
      "\n",
      "    parser.add_argument('--batch-size', type=int, default=100)\n",
      "    parser.add_argument('--epochs', type=int, default=10)\n",
      "    parser.add_argument('--learning-rate', type=float, default=0.1)\n",
      "    parser.add_argument('--momentum', type=float, default=0.9)\n",
      "    parser.add_argument('--log-interval', type=float, default=100)\n",
      "\n",
      "    parser.add_argument('--model-dir', type=str, default=os.environ['SM_MODEL_DIR'])\n",
      "    parser.add_argument('--train', type=str, default=os.environ['SM_CHANNEL_TRAINING'])\n",
      "\n",
      "    parser.add_argument('--current-host', type=str, default=os.environ['SM_CURRENT_HOST'])\n",
      "    parser.add_argument('--hosts', type=list, default=json.loads(os.environ['SM_HOSTS']))\n",
      "\n",
      "    return parser.parse_args()\n",
      "\n",
      "\n",
      "if __name__ == '__main__':\n",
      "    args = parse_args()\n",
      "\n",
      "    train(args)\n"
     ]
    }
   ],
   "source": [
    "!cat 'mnist.py'"
   ]
  },
  {
   "cell_type": "markdown",
   "metadata": {},
   "source": [
    "## Run the training script on SageMaker\n",
    "\n",
    "The ```MXNet``` class allows us to run our training function on SageMaker infrastructure. We need to configure it with our training script, an IAM role, the number of training instances, and the training instance type. In this case we will run our training job on a single c4.xlarge instance. "
   ]
  },
  {
   "cell_type": "code",
   "execution_count": null,
   "metadata": {},
   "outputs": [],
   "source": [
    "m = MXNet(\"mnist.py\",\n",
    "          role=role,\n",
    "          train_instance_count=1,\n",
    "          train_instance_type=\"ml.c4.xlarge\",\n",
    "          framework_version=\"1.4.1\",\n",
    "          py_version=\"py3\",\n",
    "          hyperparameters={'batch-size': 100,\n",
    "                           'epochs': 20,\n",
    "                           'learning-rate': 0.1,\n",
    "                           'momentum': 0.9, \n",
    "                           'log-interval': 100})"
   ]
  },
  {
   "cell_type": "markdown",
   "metadata": {},
   "source": [
    "After we've constructed our `MXNet` object, we can fit it using the data we uploaded to S3. SageMaker makes sure our data is available in the local filesystem, so our training script can simply read the data from disk.\n"
   ]
  },
  {
   "cell_type": "code",
   "execution_count": null,
   "metadata": {
    "scrolled": true
   },
   "outputs": [],
   "source": [
    "m.fit(inputs)"
   ]
  },
  {
   "cell_type": "markdown",
   "metadata": {},
   "source": [
    "After training, we use the MXNet object to build and deploy an MXNetPredictor object. This creates a SageMaker endpoint that we can use to perform inference. \n",
    "\n",
    "This allows us to perform inference on json encoded multi-dimensional arrays. "
   ]
  },
  {
   "cell_type": "code",
   "execution_count": null,
   "metadata": {
    "scrolled": true
   },
   "outputs": [],
   "source": [
    "predictor = m.deploy(initial_instance_count=1, instance_type='ml.m4.xlarge')"
   ]
  },
  {
   "cell_type": "markdown",
   "metadata": {},
   "source": [
    "We can now use this predictor to classify hand-written digits. Drawing into the image box loads the pixel data into a 'data' variable in this notebook, which we can then pass to the mxnet predictor. "
   ]
  },
  {
   "cell_type": "code",
   "execution_count": null,
   "metadata": {},
   "outputs": [],
   "source": [
    "from IPython.display import HTML\n",
    "HTML(open(\"input.html\").read())"
   ]
  },
  {
   "cell_type": "markdown",
   "metadata": {},
   "source": [
    "The predictor runs inference on our input data and returns the predicted digit (as a float value, so we convert to int for display)."
   ]
  },
  {
   "cell_type": "code",
   "execution_count": null,
   "metadata": {
    "scrolled": true
   },
   "outputs": [],
   "source": [
    "response = predictor.predict(data)\n",
    "print(int(response))"
   ]
  },
  {
   "cell_type": "markdown",
   "metadata": {},
   "source": [
    "## Cleanup\n",
    "\n",
    "After you have finished with this example, remember to delete the prediction endpoint to release the instance(s) associated with it."
   ]
  },
  {
   "cell_type": "code",
   "execution_count": null,
   "metadata": {},
   "outputs": [],
   "source": [
    "predictor.delete_endpoint()"
   ]
  }
 ],
 "metadata": {
  "kernelspec": {
   "display_name": "conda_mxnet_p36",
   "language": "python",
   "name": "conda_mxnet_p36"
  },
  "language_info": {
   "codemirror_mode": {
    "name": "ipython",
    "version": 3
   },
   "file_extension": ".py",
   "mimetype": "text/x-python",
   "name": "python",
   "nbconvert_exporter": "python",
   "pygments_lexer": "ipython3",
   "version": "3.6.5"
  },
  "notice": "Copyright 2017 Amazon.com, Inc. or its affiliates. All Rights Reserved.  Licensed under the Apache License, Version 2.0 (the \"License\"). You may not use this file except in compliance with the License. A copy of the License is located at http://aws.amazon.com/apache2.0/ or in the \"license\" file accompanying this file. This file is distributed on an \"AS IS\" BASIS, WITHOUT WARRANTIES OR CONDITIONS OF ANY KIND, either express or implied. See the License for the specific language governing permissions and limitations under the License."
 },
 "nbformat": 4,
 "nbformat_minor": 4
}
